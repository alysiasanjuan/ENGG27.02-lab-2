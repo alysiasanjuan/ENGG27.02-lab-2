{
 "cells": [
  {
   "cell_type": "markdown",
   "metadata": {},
   "source": [
    "# ENGG 27.02 LAB ACTIVITY 2\n",
    "\n",
    "\n",
    "## Bisection Method\n",
    "1. Given \\$f(x)=−2x^6−1.5x^4+10x+2\\$ Use bisection to determine the maximum of this function. Employ initial guesses of \\$x_l=0\\$ and \\$x_u=1\\$ , and perform iterations until the approximate relative error falls below \\$5%\\$."
   ]
  },
  {
   "cell_type": "code",
   "execution_count": null,
   "metadata": {},
   "outputs": [],
   "source": [
    "#johnrel code"
   ]
  },
  {
   "cell_type": "markdown",
   "metadata": {},
   "source": [
    "## Secant Method\n",
    "2. Use the secant method on the circle function \\$(x+1)^2+(y−2)^2=16\\$  to find a positive real root. Set your initial guess to \\$x_i=3\\$  and \\$x_i−1 =0.5\\$. Approach the solution from the first and fourth quadrants. When solving for \\$f(x)\\$  in the fourth quadrant, be sure to take the negative value of the square root. Why does your solution diverge?"
   ]
  },
  {
   "cell_type": "code",
   "execution_count": null,
   "metadata": {},
   "outputs": [],
   "source": [
    "#alysia code"
   ]
  },
  {
   "cell_type": "markdown",
   "metadata": {},
   "source": [
    "## Brent's Method\n",
    "3. Determine the lowest real root of \\$f(x)=−12−21x+18x^2−2.4x^3\\$ using Brent’s method to a value of εs corresponding to three significant figures."
   ]
  },
  {
   "cell_type": "code",
   "execution_count": null,
   "metadata": {},
   "outputs": [],
   "source": [
    "#both assigned"
   ]
  }
 ],
 "metadata": {
  "kernelspec": {
   "display_name": "Julia 1.6.0",
   "language": "julia",
   "name": "julia-1.6"
  },
  "language_info": {
   "file_extension": ".jl",
   "mimetype": "application/julia",
   "name": "julia",
   "version": "1.6.0"
  }
 },
 "nbformat": 4,
 "nbformat_minor": 4
}
