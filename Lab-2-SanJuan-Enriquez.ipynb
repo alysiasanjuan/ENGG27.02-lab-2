{
 "cells": [
  {
   "cell_type": "markdown",
   "metadata": {},
   "source": [
    "# ENGG 27.02 LAB ACTIVITY 2\n",
    "\n",
    "\n",
    "## Bisection Method\n",
    "1. Given \\$f(x)=−2x^6−1.5x^4+10x+2\\$ Use bisection to determine the maximum of this function. Employ initial guesses of \\$x_l=0\\$ and \\$x_u=1\\$ , and perform iterations until the approximate relative error falls below \\$5%\\$."
   ]
  },
  {
   "cell_type": "code",
   "execution_count": 1,
   "metadata": {},
   "outputs": [],
   "source": [
    "#johnrel code"
   ]
  },
  {
   "cell_type": "markdown",
   "metadata": {},
   "source": [
    "## Secant Method\n",
    "2. Use the secant method on the circle function \\$(x+1)^2+(y−2)^2=16\\$  to find a positive real root. Set your initial guess to \\$x_i=3\\$  and \\$x_i−1 =0.5\\$. Approach the solution from the first and fourth quadrants. When solving for \\$f(x)\\$  in the fourth quadrant, be sure to take the negative value of the square root. Why does your solution diverge?"
   ]
  },
  {
   "cell_type": "code",
   "execution_count": 2,
   "metadata": {},
   "outputs": [
    {
     "data": {
      "text/plain": [
       "plot_circle (generic function with 1 method)"
      ]
     },
     "execution_count": 2,
     "metadata": {},
     "output_type": "execute_result"
    }
   ],
   "source": [
    "using Plots\n",
    "function plot_circle(h, k, r)\n",
    "#= Takes an input  of (h, k) or the center of the circle and r or the radius of the circle and plots the points of the circle =#\n",
    "    x =[]; y=[]\n",
    "    for i in 0:0.001:2*π\n",
    "        append!(x, h .+ r*sin(i)) #parametric equation for circle\n",
    "        append!(y, k .+ r*cos(i))\n",
    "    end\n",
    "    plot(x,y, seriestype=[:shape], fillalpha=0.2, aspect_ratio=1, color=\"red\", label=\"f(x,y)\")\n",
    "end"
   ]
  },
  {
   "cell_type": "code",
   "execution_count": 3,
   "metadata": {},
   "outputs": [
    {
     "data": {
      "text/plain": [
       "secant (generic function with 1 method)"
      ]
     },
     "execution_count": 3,
     "metadata": {},
     "output_type": "execute_result"
    }
   ],
   "source": [
    "function secant(f::Function, x0, x1)\n",
    "#= Takes an input of the function, the first guess, and the second guess. Loop stops when x is reasonably close to zero.\n",
    "    Plots the point of the root estimate after. =#\n",
    "    x = 0.0; i = 1\n",
    "    while true\n",
    "        x = x1 - f(x1) * (x1-x0)/(f(x1)-f(x0))\n",
    "        if abs(x-x1) < 1e-5\n",
    "            println(\"term #$i: secant estimate of $x\")            \n",
    "            break\n",
    "        end\n",
    "        x0 = x1\n",
    "        x1 = x\n",
    "        i += 1\n",
    "    end\n",
    "    plot!([x],[f(x)], label=\"secant estimate: f(x) = $x\", markershape = :circle)\n",
    "end"
   ]
  },
  {
   "cell_type": "code",
   "execution_count": null,
   "metadata": {},
   "outputs": [],
   "source": [
    "f(x) = sqrt(16 - (x+1)^2)-2 #isolating y\n",
    "println(\"function: f(x,y) = (x+1)^2 + (y-2)^2 - 16 or f(x) = +-sqrt(16 - (x+1)^2)-2\")\n",
    "plot_circle(-1,2,4)\n",
    "secant(f, 1, 2)"
   ]
  },
  {
   "cell_type": "markdown",
   "metadata": {},
   "source": [
    "## Brent's Method\n",
    "3. Determine the lowest real root of \\$f(x)=−12−21x+18x^2−2.4x^3\\$ using Brent’s method to a value of εs corresponding to three significant figures."
   ]
  },
  {
   "cell_type": "code",
   "execution_count": null,
   "metadata": {},
   "outputs": [],
   "source": [
    "#both assigned"
   ]
  }
 ],
 "metadata": {
  "kernelspec": {
   "display_name": "Julia 1.6.0",
   "language": "julia",
   "name": "julia-1.6"
  },
  "language_info": {
   "file_extension": ".jl",
   "mimetype": "application/julia",
   "name": "julia",
   "version": "1.6.0"
  }
 },
 "nbformat": 4,
 "nbformat_minor": 4
}
