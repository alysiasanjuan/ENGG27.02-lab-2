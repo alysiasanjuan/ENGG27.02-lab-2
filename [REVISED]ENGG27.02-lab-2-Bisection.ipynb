{
 "cells": [
  {
   "cell_type": "markdown",
   "metadata": {},
   "source": [
    "Given\n",
    "\\begin{equation}\n",
    "f(x)=−2x^6−1.5x^4+10x+2\n",
    "\\end{equation}\n",
    "Use bisection to determine the maximum of this function. Employ initial guesses of \\begin{equation} xl=0 \\end{equation} and \\begin{equation} xu=1 \\end{equation} and perform iterations until the approximate relative error falls below 5%."
   ]
  },
  {
   "cell_type": "code",
   "execution_count": 198,
   "metadata": {},
   "outputs": [],
   "source": [
    "function f(x)\n",
    "    -2*x^6-1.5*x^4+10*x+2\n",
    "end;"
   ]
  },
  {
   "cell_type": "markdown",
   "metadata": {},
   "source": [
    "We will write the bisection method as a function in Julia (taken from submodule \"Bracketing Methods\" in Module 2):"
   ]
  },
  {
   "cell_type": "code",
   "execution_count": 200,
   "metadata": {},
   "outputs": [
    {
     "data": {
      "text/plain": [
       "bisect (generic function with 1 method)"
      ]
     },
     "execution_count": 200,
     "metadata": {},
     "output_type": "execute_result"
    }
   ],
   "source": [
    "function bisect(xl,xu,es,imax)   #use the bisection function to determine the existence of roots in an interval as well as the value of the root\n",
    "    iter = 0\n",
    "    fl = f(xl)\n",
    "    xr = xu\n",
    "    ea = es + 1\n",
    "    \n",
    "    if f(xl)*f(xu) < 0                     #if the statement is false, there is no root in the interval\n",
    "        while ea > es && iter < imax       #conditions for the loop to continue\n",
    "            xr_old = xr                   \n",
    "            xr = (xl + xu)/2\n",
    "            fr = f(xr)\n",
    "            iter += 1\n",
    "        \n",
    "            if xr != 0\n",
    "            ea = abs((xr - xr_old)/xr)*100\n",
    "            end\n",
    "        \n",
    "            test = fl*fr\n",
    "        \n",
    "            if test < 0\n",
    "            xu = xr\n",
    "            elseif test > 0\n",
    "                xl = xr\n",
    "                fl = fr\n",
    "            else\n",
    "                ea = 0\n",
    "            end\n",
    "        end  \n",
    "        return xr,iter,ea\n",
    "    else\n",
    "        print(\"No roots between interval\")\n",
    "    end\n",
    "end"
   ]
  },
  {
   "cell_type": "code",
   "execution_count": 201,
   "metadata": {},
   "outputs": [
    {
     "name": "stdout",
     "output_type": "stream",
     "text": [
      "No roots between interval"
     ]
    }
   ],
   "source": [
    "xl = 0\n",
    "xu = 1\n",
    "es = 5\n",
    "imax = 1000\n",
    "\n",
    "bisect(xl,xu,es,imax)"
   ]
  },
  {
   "cell_type": "markdown",
   "metadata": {},
   "source": [
    "Since there is no roots in the initial guess of \\begin{equation} xl=0 \\end{equation} and \\begin{equation} xu=1 \\end{equation} we will proceed with Graphical Method to determine the interval that includes \\begin{equation} f(x)=0 \\end{equation}"
   ]
  },
  {
   "cell_type": "code",
   "execution_count": 202,
   "metadata": {},
   "outputs": [],
   "source": [
    "using Plots"
   ]
  },
  {
   "cell_type": "code",
   "execution_count": 203,
   "metadata": {},
   "outputs": [
    {
     "data": {
      "image/svg+xml": [
       "<?xml version=\"1.0\" encoding=\"utf-8\"?>\n",
       "<svg xmlns=\"http://www.w3.org/2000/svg\" xmlns:xlink=\"http://www.w3.org/1999/xlink\" width=\"600\" height=\"400\" viewBox=\"0 0 2400 1600\">\n",
       "<defs>\n",
       "  <clipPath id=\"clip400\">\n",
       "    <rect x=\"0\" y=\"0\" width=\"2400\" height=\"1600\"/>\n",
       "  </clipPath>\n",
       "</defs>\n",
       "<path clip-path=\"url(#clip400)\" d=\"\n",
       "M0 1600 L2400 1600 L2400 0 L0 0  Z\n",
       "  \" fill=\"#ffffff\" fill-rule=\"evenodd\" fill-opacity=\"1\"/>\n",
       "<defs>\n",
       "  <clipPath id=\"clip401\">\n",
       "    <rect x=\"480\" y=\"0\" width=\"1681\" height=\"1600\"/>\n",
       "  </clipPath>\n",
       "</defs>\n",
       "<path clip-path=\"url(#clip400)\" d=\"\n",
       "M209.029 1486.45 L2352.76 1486.45 L2352.76 47.2441 L209.029 47.2441  Z\n",
       "  \" fill=\"#ffffff\" fill-rule=\"evenodd\" fill-opacity=\"1\"/>\n",
       "<defs>\n",
       "  <clipPath id=\"clip402\">\n",
       "    <rect x=\"209\" y=\"47\" width=\"2145\" height=\"1440\"/>\n",
       "  </clipPath>\n",
       "</defs>\n",
       "<polyline clip-path=\"url(#clip402)\" style=\"stroke:#000000; stroke-width:2; stroke-opacity:0.1; fill:none\" points=\"\n",
       "  269.7,1486.45 269.7,47.2441 \n",
       "  \"/>\n",
       "<polyline clip-path=\"url(#clip402)\" style=\"stroke:#000000; stroke-width:2; stroke-opacity:0.1; fill:none\" points=\"\n",
       "  775.296,1486.45 775.296,47.2441 \n",
       "  \"/>\n",
       "<polyline clip-path=\"url(#clip402)\" style=\"stroke:#000000; stroke-width:2; stroke-opacity:0.1; fill:none\" points=\"\n",
       "  1280.89,1486.45 1280.89,47.2441 \n",
       "  \"/>\n",
       "<polyline clip-path=\"url(#clip402)\" style=\"stroke:#000000; stroke-width:2; stroke-opacity:0.1; fill:none\" points=\"\n",
       "  1786.49,1486.45 1786.49,47.2441 \n",
       "  \"/>\n",
       "<polyline clip-path=\"url(#clip402)\" style=\"stroke:#000000; stroke-width:2; stroke-opacity:0.1; fill:none\" points=\"\n",
       "  2292.08,1486.45 2292.08,47.2441 \n",
       "  \"/>\n",
       "<polyline clip-path=\"url(#clip400)\" style=\"stroke:#000000; stroke-width:4; stroke-opacity:1; fill:none\" points=\"\n",
       "  209.029,1486.45 2352.76,1486.45 \n",
       "  \"/>\n",
       "<polyline clip-path=\"url(#clip400)\" style=\"stroke:#000000; stroke-width:4; stroke-opacity:1; fill:none\" points=\"\n",
       "  269.7,1486.45 269.7,1469.18 \n",
       "  \"/>\n",
       "<polyline clip-path=\"url(#clip400)\" style=\"stroke:#000000; stroke-width:4; stroke-opacity:1; fill:none\" points=\"\n",
       "  775.296,1486.45 775.296,1469.18 \n",
       "  \"/>\n",
       "<polyline clip-path=\"url(#clip400)\" style=\"stroke:#000000; stroke-width:4; stroke-opacity:1; fill:none\" points=\"\n",
       "  1280.89,1486.45 1280.89,1469.18 \n",
       "  \"/>\n",
       "<polyline clip-path=\"url(#clip400)\" style=\"stroke:#000000; stroke-width:4; stroke-opacity:1; fill:none\" points=\"\n",
       "  1786.49,1486.45 1786.49,1469.18 \n",
       "  \"/>\n",
       "<polyline clip-path=\"url(#clip400)\" style=\"stroke:#000000; stroke-width:4; stroke-opacity:1; fill:none\" points=\"\n",
       "  2292.08,1486.45 2292.08,1469.18 \n",
       "  \"/>\n",
       "<path clip-path=\"url(#clip400)\" d=\"M 0 0 M239.642 1530.29 L269.318 1530.29 L269.318 1534.23 L239.642 1534.23 L239.642 1530.29 Z\" fill=\"#000000\" fill-rule=\"evenodd\" fill-opacity=\"1\" /><path clip-path=\"url(#clip400)\" d=\"M 0 0 M283.438 1543.18 L299.758 1543.18 L299.758 1547.12 L277.813 1547.12 L277.813 1543.18 Q280.475 1540.43 285.059 1535.8 Q289.665 1531.15 290.846 1529.81 Q293.091 1527.28 293.971 1525.55 Q294.874 1523.79 294.874 1522.1 Q294.874 1519.34 292.929 1517.61 Q291.008 1515.87 287.906 1515.87 Q285.707 1515.87 283.253 1516.63 Q280.823 1517.4 278.045 1518.95 L278.045 1514.23 Q280.869 1513.09 283.323 1512.51 Q285.776 1511.93 287.813 1511.93 Q293.184 1511.93 296.378 1514.62 Q299.573 1517.31 299.573 1521.8 Q299.573 1523.93 298.762 1525.85 Q297.975 1527.74 295.869 1530.34 Q295.29 1531.01 292.188 1534.23 Q289.087 1537.42 283.438 1543.18 Z\" fill=\"#000000\" fill-rule=\"evenodd\" fill-opacity=\"1\" /><path clip-path=\"url(#clip400)\" d=\"M 0 0 M745.053 1530.29 L774.729 1530.29 L774.729 1534.23 L745.053 1534.23 L745.053 1530.29 Z\" fill=\"#000000\" fill-rule=\"evenodd\" fill-opacity=\"1\" /><path clip-path=\"url(#clip400)\" d=\"M 0 0 M785.632 1543.18 L793.271 1543.18 L793.271 1516.82 L784.96 1518.49 L784.96 1514.23 L793.224 1512.56 L797.9 1512.56 L797.9 1543.18 L805.539 1543.18 L805.539 1547.12 L785.632 1547.12 L785.632 1543.18 Z\" fill=\"#000000\" fill-rule=\"evenodd\" fill-opacity=\"1\" /><path clip-path=\"url(#clip400)\" d=\"M 0 0 M1280.89 1515.64 Q1277.28 1515.64 1275.45 1519.2 Q1273.65 1522.75 1273.65 1529.87 Q1273.65 1536.98 1275.45 1540.55 Q1277.28 1544.09 1280.89 1544.09 Q1284.53 1544.09 1286.33 1540.55 Q1288.16 1536.98 1288.16 1529.87 Q1288.16 1522.75 1286.33 1519.2 Q1284.53 1515.64 1280.89 1515.64 M1280.89 1511.93 Q1286.7 1511.93 1289.76 1516.54 Q1292.84 1521.12 1292.84 1529.87 Q1292.84 1538.6 1289.76 1543.21 Q1286.7 1547.79 1280.89 1547.79 Q1275.08 1547.79 1272 1543.21 Q1268.95 1538.6 1268.95 1529.87 Q1268.95 1521.12 1272 1516.54 Q1275.08 1511.93 1280.89 1511.93 Z\" fill=\"#000000\" fill-rule=\"evenodd\" fill-opacity=\"1\" /><path clip-path=\"url(#clip400)\" d=\"M 0 0 M1776.87 1543.18 L1784.51 1543.18 L1784.51 1516.82 L1776.2 1518.49 L1776.2 1514.23 L1784.46 1512.56 L1789.14 1512.56 L1789.14 1543.18 L1796.78 1543.18 L1796.78 1547.12 L1776.87 1547.12 L1776.87 1543.18 Z\" fill=\"#000000\" fill-rule=\"evenodd\" fill-opacity=\"1\" /><path clip-path=\"url(#clip400)\" d=\"M 0 0 M2286.74 1543.18 L2303.06 1543.18 L2303.06 1547.12 L2281.11 1547.12 L2281.11 1543.18 Q2283.77 1540.43 2288.36 1535.8 Q2292.96 1531.15 2294.14 1529.81 Q2296.39 1527.28 2297.27 1525.55 Q2298.17 1523.79 2298.17 1522.1 Q2298.17 1519.34 2296.23 1517.61 Q2294.31 1515.87 2291.2 1515.87 Q2289.01 1515.87 2286.55 1516.63 Q2284.12 1517.4 2281.34 1518.95 L2281.34 1514.23 Q2284.17 1513.09 2286.62 1512.51 Q2289.08 1511.93 2291.11 1511.93 Q2296.48 1511.93 2299.68 1514.62 Q2302.87 1517.31 2302.87 1521.8 Q2302.87 1523.93 2302.06 1525.85 Q2301.27 1527.74 2299.17 1530.34 Q2298.59 1531.01 2295.49 1534.23 Q2292.39 1537.42 2286.74 1543.18 Z\" fill=\"#000000\" fill-rule=\"evenodd\" fill-opacity=\"1\" /><polyline clip-path=\"url(#clip402)\" style=\"stroke:#000000; stroke-width:2; stroke-opacity:0.1; fill:none\" points=\"\n",
       "  209.029,1293.96 2352.76,1293.96 \n",
       "  \"/>\n",
       "<polyline clip-path=\"url(#clip402)\" style=\"stroke:#000000; stroke-width:2; stroke-opacity:0.1; fill:none\" points=\"\n",
       "  209.029,914.583 2352.76,914.583 \n",
       "  \"/>\n",
       "<polyline clip-path=\"url(#clip402)\" style=\"stroke:#000000; stroke-width:2; stroke-opacity:0.1; fill:none\" points=\"\n",
       "  209.029,535.202 2352.76,535.202 \n",
       "  \"/>\n",
       "<polyline clip-path=\"url(#clip402)\" style=\"stroke:#000000; stroke-width:2; stroke-opacity:0.1; fill:none\" points=\"\n",
       "  209.029,155.821 2352.76,155.821 \n",
       "  \"/>\n",
       "<polyline clip-path=\"url(#clip400)\" style=\"stroke:#000000; stroke-width:4; stroke-opacity:1; fill:none\" points=\"\n",
       "  209.029,1486.45 209.029,47.2441 \n",
       "  \"/>\n",
       "<polyline clip-path=\"url(#clip400)\" style=\"stroke:#000000; stroke-width:4; stroke-opacity:1; fill:none\" points=\"\n",
       "  209.029,1293.96 234.753,1293.96 \n",
       "  \"/>\n",
       "<polyline clip-path=\"url(#clip400)\" style=\"stroke:#000000; stroke-width:4; stroke-opacity:1; fill:none\" points=\"\n",
       "  209.029,914.583 234.753,914.583 \n",
       "  \"/>\n",
       "<polyline clip-path=\"url(#clip400)\" style=\"stroke:#000000; stroke-width:4; stroke-opacity:1; fill:none\" points=\"\n",
       "  209.029,535.202 234.753,535.202 \n",
       "  \"/>\n",
       "<polyline clip-path=\"url(#clip400)\" style=\"stroke:#000000; stroke-width:4; stroke-opacity:1; fill:none\" points=\"\n",
       "  209.029,155.821 234.753,155.821 \n",
       "  \"/>\n",
       "<path clip-path=\"url(#clip400)\" d=\"M 0 0 M50.9921 1294.41 L80.6679 1294.41 L80.6679 1298.35 L50.9921 1298.35 L50.9921 1294.41 Z\" fill=\"#000000\" fill-rule=\"evenodd\" fill-opacity=\"1\" /><path clip-path=\"url(#clip400)\" d=\"M 0 0 M91.5706 1307.31 L99.2095 1307.31 L99.2095 1280.94 L90.8993 1282.61 L90.8993 1278.35 L99.1632 1276.68 L103.839 1276.68 L103.839 1307.31 L111.478 1307.31 L111.478 1311.24 L91.5706 1311.24 L91.5706 1307.31 Z\" fill=\"#000000\" fill-rule=\"evenodd\" fill-opacity=\"1\" /><path clip-path=\"url(#clip400)\" d=\"M 0 0 M120.969 1276.68 L139.325 1276.68 L139.325 1280.62 L125.251 1280.62 L125.251 1289.09 Q126.27 1288.74 127.288 1288.58 Q128.307 1288.4 129.325 1288.4 Q135.112 1288.4 138.492 1291.57 Q141.871 1294.74 141.871 1300.16 Q141.871 1305.73 138.399 1308.84 Q134.927 1311.91 128.607 1311.91 Q126.432 1311.91 124.163 1311.54 Q121.918 1311.17 119.51 1310.43 L119.51 1305.73 Q121.594 1306.87 123.816 1307.42 Q126.038 1307.98 128.515 1307.98 Q132.519 1307.98 134.857 1305.87 Q137.195 1303.77 137.195 1300.16 Q137.195 1296.54 134.857 1294.44 Q132.519 1292.33 128.515 1292.33 Q126.64 1292.33 124.765 1292.75 Q122.913 1293.16 120.969 1294.04 L120.969 1276.68 Z\" fill=\"#000000\" fill-rule=\"evenodd\" fill-opacity=\"1\" /><path clip-path=\"url(#clip400)\" d=\"M 0 0 M161.084 1279.76 Q157.473 1279.76 155.644 1283.33 Q153.839 1286.87 153.839 1294 Q153.839 1301.1 155.644 1304.67 Q157.473 1308.21 161.084 1308.21 Q164.718 1308.21 166.524 1304.67 Q168.353 1301.1 168.353 1294 Q168.353 1286.87 166.524 1283.33 Q164.718 1279.76 161.084 1279.76 M161.084 1276.06 Q166.894 1276.06 169.95 1280.66 Q173.029 1285.25 173.029 1294 Q173.029 1302.72 169.95 1307.33 Q166.894 1311.91 161.084 1311.91 Q155.274 1311.91 152.195 1307.33 Q149.14 1302.72 149.14 1294 Q149.14 1285.25 152.195 1280.66 Q155.274 1276.06 161.084 1276.06 Z\" fill=\"#000000\" fill-rule=\"evenodd\" fill-opacity=\"1\" /><path clip-path=\"url(#clip400)\" d=\"M 0 0 M50.9921 915.034 L80.6679 915.034 L80.6679 918.969 L50.9921 918.969 L50.9921 915.034 Z\" fill=\"#000000\" fill-rule=\"evenodd\" fill-opacity=\"1\" /><path clip-path=\"url(#clip400)\" d=\"M 0 0 M91.5706 927.928 L99.2095 927.928 L99.2095 901.562 L90.8993 903.229 L90.8993 898.969 L99.1632 897.303 L103.839 897.303 L103.839 927.928 L111.478 927.928 L111.478 931.863 L91.5706 931.863 L91.5706 927.928 Z\" fill=\"#000000\" fill-rule=\"evenodd\" fill-opacity=\"1\" /><path clip-path=\"url(#clip400)\" d=\"M 0 0 M130.922 900.381 Q127.311 900.381 125.482 903.946 Q123.677 907.488 123.677 914.617 Q123.677 921.724 125.482 925.289 Q127.311 928.83 130.922 928.83 Q134.556 928.83 136.362 925.289 Q138.191 921.724 138.191 914.617 Q138.191 907.488 136.362 903.946 Q134.556 900.381 130.922 900.381 M130.922 896.678 Q136.732 896.678 139.788 901.284 Q142.867 905.867 142.867 914.617 Q142.867 923.344 139.788 927.951 Q136.732 932.534 130.922 932.534 Q125.112 932.534 122.033 927.951 Q118.978 923.344 118.978 914.617 Q118.978 905.867 122.033 901.284 Q125.112 896.678 130.922 896.678 Z\" fill=\"#000000\" fill-rule=\"evenodd\" fill-opacity=\"1\" /><path clip-path=\"url(#clip400)\" d=\"M 0 0 M161.084 900.381 Q157.473 900.381 155.644 903.946 Q153.839 907.488 153.839 914.617 Q153.839 921.724 155.644 925.289 Q157.473 928.83 161.084 928.83 Q164.718 928.83 166.524 925.289 Q168.353 921.724 168.353 914.617 Q168.353 907.488 166.524 903.946 Q164.718 900.381 161.084 900.381 M161.084 896.678 Q166.894 896.678 169.95 901.284 Q173.029 905.867 173.029 914.617 Q173.029 923.344 169.95 927.951 Q166.894 932.534 161.084 932.534 Q155.274 932.534 152.195 927.951 Q149.14 923.344 149.14 914.617 Q149.14 905.867 152.195 901.284 Q155.274 896.678 161.084 896.678 Z\" fill=\"#000000\" fill-rule=\"evenodd\" fill-opacity=\"1\" /><path clip-path=\"url(#clip400)\" d=\"M 0 0 M81.154 535.653 L110.83 535.653 L110.83 539.589 L81.154 539.589 L81.154 535.653 Z\" fill=\"#000000\" fill-rule=\"evenodd\" fill-opacity=\"1\" /><path clip-path=\"url(#clip400)\" d=\"M 0 0 M120.969 517.922 L139.325 517.922 L139.325 521.857 L125.251 521.857 L125.251 530.329 Q126.27 529.982 127.288 529.82 Q128.307 529.635 129.325 529.635 Q135.112 529.635 138.492 532.806 Q141.871 535.977 141.871 541.394 Q141.871 546.973 138.399 550.075 Q134.927 553.153 128.607 553.153 Q126.432 553.153 124.163 552.783 Q121.918 552.413 119.51 551.672 L119.51 546.973 Q121.594 548.107 123.816 548.663 Q126.038 549.218 128.515 549.218 Q132.519 549.218 134.857 547.112 Q137.195 545.005 137.195 541.394 Q137.195 537.783 134.857 535.677 Q132.519 533.57 128.515 533.57 Q126.64 533.57 124.765 533.987 Q122.913 534.403 120.969 535.283 L120.969 517.922 Z\" fill=\"#000000\" fill-rule=\"evenodd\" fill-opacity=\"1\" /><path clip-path=\"url(#clip400)\" d=\"M 0 0 M161.084 521.001 Q157.473 521.001 155.644 524.565 Q153.839 528.107 153.839 535.237 Q153.839 542.343 155.644 545.908 Q157.473 549.45 161.084 549.45 Q164.718 549.45 166.524 545.908 Q168.353 542.343 168.353 535.237 Q168.353 528.107 166.524 524.565 Q164.718 521.001 161.084 521.001 M161.084 517.297 Q166.894 517.297 169.95 521.903 Q173.029 526.487 173.029 535.237 Q173.029 543.964 169.95 548.57 Q166.894 553.153 161.084 553.153 Q155.274 553.153 152.195 548.57 Q149.14 543.964 149.14 535.237 Q149.14 526.487 152.195 521.903 Q155.274 517.297 161.084 517.297 Z\" fill=\"#000000\" fill-rule=\"evenodd\" fill-opacity=\"1\" /><path clip-path=\"url(#clip400)\" d=\"M 0 0 M161.084 141.62 Q157.473 141.62 155.644 145.185 Q153.839 148.726 153.839 155.856 Q153.839 162.962 155.644 166.527 Q157.473 170.069 161.084 170.069 Q164.718 170.069 166.524 166.527 Q168.353 162.962 168.353 155.856 Q168.353 148.726 166.524 145.185 Q164.718 141.62 161.084 141.62 M161.084 137.916 Q166.894 137.916 169.95 142.523 Q173.029 147.106 173.029 155.856 Q173.029 164.583 169.95 169.189 Q166.894 173.773 161.084 173.773 Q155.274 173.773 152.195 169.189 Q149.14 164.583 149.14 155.856 Q149.14 147.106 152.195 142.523 Q155.274 137.916 161.084 137.916 Z\" fill=\"#000000\" fill-rule=\"evenodd\" fill-opacity=\"1\" /><polyline clip-path=\"url(#clip402)\" style=\"stroke:#009af9; stroke-width:4; stroke-opacity:1; fill:none\" points=\"\n",
       "  269.7,1445.72 274.638,1413.33 279.575,1381.69 284.513,1350.76 289.45,1320.53 312.278,1189.6 335.105,1072.19 357.933,967.124 380.76,873.3 403.587,789.688 \n",
       "  426.415,715.333 449.242,649.35 472.07,590.919 499.506,529.619 526.943,476.938 554.38,431.789 581.816,393.194 628.211,340.432 674.606,300.288 725.004,267.508 \n",
       "  775.401,243.035 821.863,225.765 868.326,212.087 967.95,190.134 1083.38,170.607 1185.95,154.909 1275.9,141.395 1373.97,126.691 1472.62,112.153 1581.7,97.6025 \n",
       "  1685.48,88.5802 1739.43,87.9763 1793.38,92.2105 1838.8,101.19 1884.22,116.997 1939.67,148.844 1995.12,199.379 2021.18,231.386 2047.24,269.738 2073.31,315.317 \n",
       "  2099.37,369.094 2120.24,418.802 2141.12,475.051 2162,538.483 2182.87,609.785 2203.75,689.695 2224.63,779.001 2245.5,878.546 2266.38,989.227 2272.81,1025.68 \n",
       "  2279.23,1063.31 2285.66,1102.14 2292.08,1142.21 \n",
       "  \"/>\n",
       "<path clip-path=\"url(#clip400)\" d=\"\n",
       "M1990.68 216.178 L2281.3 216.178 L2281.3 95.2176 L1990.68 95.2176  Z\n",
       "  \" fill=\"#ffffff\" fill-rule=\"evenodd\" fill-opacity=\"1\"/>\n",
       "<polyline clip-path=\"url(#clip400)\" style=\"stroke:#000000; stroke-width:4; stroke-opacity:1; fill:none\" points=\"\n",
       "  1990.68,216.178 2281.3,216.178 2281.3,95.2176 1990.68,95.2176 1990.68,216.178 \n",
       "  \"/>\n",
       "<polyline clip-path=\"url(#clip400)\" style=\"stroke:#009af9; stroke-width:4; stroke-opacity:1; fill:none\" points=\"\n",
       "  2014.5,155.698 2157.41,155.698 \n",
       "  \"/>\n",
       "<path clip-path=\"url(#clip400)\" d=\"M 0 0 M2195.07 175.385 Q2193.27 180.015 2191.55 181.427 Q2189.84 182.839 2186.97 182.839 L2183.57 182.839 L2183.57 179.274 L2186.07 179.274 Q2187.83 179.274 2188.8 178.44 Q2189.77 177.607 2190.95 174.505 L2191.72 172.561 L2181.23 147.052 L2185.74 147.052 L2193.85 167.329 L2201.95 147.052 L2206.46 147.052 L2195.07 175.385 Z\" fill=\"#000000\" fill-rule=\"evenodd\" fill-opacity=\"1\" /><path clip-path=\"url(#clip400)\" d=\"M 0 0 M2213.75 169.042 L2221.39 169.042 L2221.39 142.677 L2213.08 144.343 L2213.08 140.084 L2221.35 138.418 L2226.02 138.418 L2226.02 169.042 L2233.66 169.042 L2233.66 172.978 L2213.75 172.978 L2213.75 169.042 Z\" fill=\"#000000\" fill-rule=\"evenodd\" fill-opacity=\"1\" /></svg>\n"
      ]
     },
     "execution_count": 203,
     "metadata": {},
     "output_type": "execute_result"
    }
   ],
   "source": [
    "f(x)\n",
    "plot(f, -2, 2)"
   ]
  },
  {
   "cell_type": "markdown",
   "metadata": {},
   "source": [
    "Our new interval for solving the root is now [1, 2] ."
   ]
  },
  {
   "cell_type": "code",
   "execution_count": 204,
   "metadata": {},
   "outputs": [
    {
     "data": {
      "text/plain": [
       "(1.3125, 4, 4.761904761904762)"
      ]
     },
     "execution_count": 204,
     "metadata": {},
     "output_type": "execute_result"
    }
   ],
   "source": [
    "xl = 1\n",
    "xu = 2\n",
    "es = 5\n",
    "imax = 1000\n",
    "\n",
    "bisect(xl,xu,es,imax)"
   ]
  },
  {
   "cell_type": "markdown",
   "metadata": {},
   "source": [
    "After 4 iterations and approximate relative error (es) falling below 5% (4.76%), the root is approximately \\begin{equation} x=1.3125 \\end{equation} "
   ]
  },
  {
   "cell_type": "markdown",
   "metadata": {},
   "source": [
    "To determine the existence of a maximum/minimum, we need to get the derivative of f(x)."
   ]
  },
  {
   "cell_type": "code",
   "execution_count": 205,
   "metadata": {},
   "outputs": [],
   "source": [
    "using Calculus"
   ]
  },
  {
   "cell_type": "code",
   "execution_count": 206,
   "metadata": {},
   "outputs": [
    {
     "data": {
      "text/plain": [
       ":(((0 * x ^ 6 + -2 * (6 * 1 * x ^ (6 - 1))) - (0 * x ^ 4 + 1.5 * (4 * 1 * x ^ (4 - 1)))) + (0 * x + 10 * 1))"
      ]
     },
     "execution_count": 206,
     "metadata": {},
     "output_type": "execute_result"
    }
   ],
   "source": [
    "differentiate(\"-2*x^6-1.5*x^4+10*x+2\", :x)"
   ]
  },
  {
   "cell_type": "code",
   "execution_count": 207,
   "metadata": {},
   "outputs": [],
   "source": [
    "function fprime(x)\n",
    "    (((0 * x ^ 6 + -2 * (6 * 1 * x ^ (6 - 1))) - (0 * x ^ 4 + 1.5 * (4 * 1 * x ^ (4 - 1)))) + (0 * x + 10 * 1))\n",
    "end;"
   ]
  },
  {
   "cell_type": "markdown",
   "metadata": {},
   "source": [
    "We will write the first derivative test as a function in Julia to determine if there is a change in the signs of the values of f'(x) at [0,1] (the initial guess interval)."
   ]
  },
  {
   "cell_type": "code",
   "execution_count": 208,
   "metadata": {},
   "outputs": [
    {
     "data": {
      "text/plain": [
       "first_derivative_test (generic function with 1 method)"
      ]
     },
     "execution_count": 208,
     "metadata": {},
     "output_type": "execute_result"
    }
   ],
   "source": [
    "function first_derivative_test(xl,xu)\n",
    "    if fprime(xl)*fprime(xu) < 0\n",
    "        print(\"There is a maximum/minimum in the interval.\")\n",
    "    else\n",
    "        print(\"There is no maximum/minimum in the interval.\")\n",
    "    end\n",
    "end"
   ]
  },
  {
   "cell_type": "code",
   "execution_count": 209,
   "metadata": {},
   "outputs": [
    {
     "name": "stdout",
     "output_type": "stream",
     "text": [
      "There is a maximum/minimum in the interval."
     ]
    }
   ],
   "source": [
    "xl = 0\n",
    "xu = 1\n",
    "\n",
    "first_derivative_test(xl,xu)"
   ]
  },
  {
   "cell_type": "markdown",
   "metadata": {},
   "source": [
    "Since the sign of f'(x) at [0,1] changed, we can assume that there is a maximum/minimum at said interval since f'(x) is the slope of the line tangent to f(x) at x."
   ]
  },
  {
   "cell_type": "markdown",
   "metadata": {},
   "source": [
    "To get the maximum/minimum, we will use the same concept of bisection method to get the critical points by solving for the root of f'(x) at [0,1]."
   ]
  },
  {
   "cell_type": "code",
   "execution_count": 210,
   "metadata": {},
   "outputs": [
    {
     "data": {
      "text/plain": [
       "get_max (generic function with 1 method)"
      ]
     },
     "execution_count": 210,
     "metadata": {},
     "output_type": "execute_result"
    }
   ],
   "source": [
    "function get_max(xl,xu,es,imax)\n",
    "    iter = 0\n",
    "    fl = fprime(xl)\n",
    "    xr = xu\n",
    "    ea = es + 1\n",
    "    \n",
    "    if fprime(xl)*fprime(xu) < 0\n",
    "        while ea > es && iter < imax\n",
    "            xr_old = xr\n",
    "            xr = (xl + xu)/2\n",
    "            fr = fprime(xr)\n",
    "            iter += 1\n",
    "        \n",
    "            if xr != 0\n",
    "            ea = abs((xr - xr_old)/xr)*100\n",
    "            end\n",
    "        \n",
    "            test = fl*fr\n",
    "        \n",
    "            if test < 0\n",
    "            xu = xr\n",
    "            elseif test > 0\n",
    "                xl = xr\n",
    "                fl = fr\n",
    "            else\n",
    "                ea = 0\n",
    "            end\n",
    "        end  \n",
    "        print(\"(\", xr, \", \", f(xr), \")\" )\n",
    "    end\n",
    "end"
   ]
  },
  {
   "cell_type": "code",
   "execution_count": 212,
   "metadata": {},
   "outputs": [
    {
     "name": "stdout",
     "output_type": "stream",
     "text": [
      "(0.871337890625, 8.973449034416316)"
     ]
    }
   ],
   "source": [
    "xl = 0\n",
    "xu = 1\n",
    "es = 0.05                               #lower approximate relative error to get more accurate value\n",
    "imax = 1000\n",
    "\n",
    "get_max(xl,xu,es,imax)"
   ]
  },
  {
   "cell_type": "markdown",
   "metadata": {},
   "source": [
    "The maximum of\n",
    "\\begin{equation}\n",
    "f(x)=−2x^6−1.5x^4+10x+2\n",
    "\\end{equation}\n",
    "is at (0.8713, 8.9734). We used a lower approximate relative error to get a more accurate value."
   ]
  }
 ],
 "metadata": {
  "kernelspec": {
   "display_name": "Julia 1.6.1",
   "language": "julia",
   "name": "julia-1.6"
  },
  "language_info": {
   "file_extension": ".jl",
   "mimetype": "application/julia",
   "name": "julia",
   "version": "1.6.1"
  }
 },
 "nbformat": 4,
 "nbformat_minor": 4
}
